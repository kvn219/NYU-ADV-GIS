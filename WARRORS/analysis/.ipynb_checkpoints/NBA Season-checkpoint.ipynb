{
 "cells": [
  {
   "cell_type": "code",
   "execution_count": 1,
   "metadata": {
    "collapsed": false
   },
   "outputs": [],
   "source": [
    "import pandas as pd"
   ]
  },
  {
   "cell_type": "code",
   "execution_count": 2,
   "metadata": {
    "collapsed": true
   },
   "outputs": [],
   "source": [
    "data = pd.read_csv(\"../data/schedule.csv\", skiprows=1, header=None)"
   ]
  },
  {
   "cell_type": "code",
   "execution_count": 3,
   "metadata": {
    "collapsed": false
   },
   "outputs": [
    {
     "data": {
      "text/html": [
       "<div>\n",
       "<table border=\"1\" class=\"dataframe\">\n",
       "  <thead>\n",
       "    <tr style=\"text-align: right;\">\n",
       "      <th></th>\n",
       "      <th>0</th>\n",
       "      <th>1</th>\n",
       "      <th>2</th>\n",
       "      <th>3</th>\n",
       "      <th>4</th>\n",
       "      <th>5</th>\n",
       "      <th>6</th>\n",
       "      <th>7</th>\n",
       "      <th>8</th>\n",
       "    </tr>\n",
       "  </thead>\n",
       "  <tbody>\n",
       "    <tr>\n",
       "      <th>0</th>\n",
       "      <td>Tue Oct 27 2015</td>\n",
       "      <td>8:00 pm</td>\n",
       "      <td>Box Score</td>\n",
       "      <td>Detroit Pistons</td>\n",
       "      <td>106.0</td>\n",
       "      <td>Atlanta Hawks</td>\n",
       "      <td>94.0</td>\n",
       "      <td>NaN</td>\n",
       "      <td>NaN</td>\n",
       "    </tr>\n",
       "    <tr>\n",
       "      <th>1</th>\n",
       "      <td>Tue Oct 27 2015</td>\n",
       "      <td>8:00 pm</td>\n",
       "      <td>Box Score</td>\n",
       "      <td>Cleveland Cavaliers</td>\n",
       "      <td>95.0</td>\n",
       "      <td>Chicago Bulls</td>\n",
       "      <td>97.0</td>\n",
       "      <td>NaN</td>\n",
       "      <td>NaN</td>\n",
       "    </tr>\n",
       "    <tr>\n",
       "      <th>2</th>\n",
       "      <td>Tue Oct 27 2015</td>\n",
       "      <td>10:30 pm</td>\n",
       "      <td>Box Score</td>\n",
       "      <td>New Orleans Pelicans</td>\n",
       "      <td>95.0</td>\n",
       "      <td>Golden State Warriors</td>\n",
       "      <td>111.0</td>\n",
       "      <td>NaN</td>\n",
       "      <td>NaN</td>\n",
       "    </tr>\n",
       "    <tr>\n",
       "      <th>3</th>\n",
       "      <td>Wed Oct 28 2015</td>\n",
       "      <td>7:30 pm</td>\n",
       "      <td>Box Score</td>\n",
       "      <td>Philadelphia 76ers</td>\n",
       "      <td>95.0</td>\n",
       "      <td>Boston Celtics</td>\n",
       "      <td>112.0</td>\n",
       "      <td>NaN</td>\n",
       "      <td>NaN</td>\n",
       "    </tr>\n",
       "    <tr>\n",
       "      <th>4</th>\n",
       "      <td>Wed Oct 28 2015</td>\n",
       "      <td>7:30 pm</td>\n",
       "      <td>Box Score</td>\n",
       "      <td>Chicago Bulls</td>\n",
       "      <td>115.0</td>\n",
       "      <td>Brooklyn Nets</td>\n",
       "      <td>100.0</td>\n",
       "      <td>NaN</td>\n",
       "      <td>NaN</td>\n",
       "    </tr>\n",
       "  </tbody>\n",
       "</table>\n",
       "</div>"
      ],
      "text/plain": [
       "                 0         1          2                     3      4  \\\n",
       "0  Tue Oct 27 2015   8:00 pm  Box Score       Detroit Pistons  106.0   \n",
       "1  Tue Oct 27 2015   8:00 pm  Box Score   Cleveland Cavaliers   95.0   \n",
       "2  Tue Oct 27 2015  10:30 pm  Box Score  New Orleans Pelicans   95.0   \n",
       "3  Wed Oct 28 2015   7:30 pm  Box Score    Philadelphia 76ers   95.0   \n",
       "4  Wed Oct 28 2015   7:30 pm  Box Score         Chicago Bulls  115.0   \n",
       "\n",
       "                       5      6    7   8  \n",
       "0          Atlanta Hawks   94.0  NaN NaN  \n",
       "1          Chicago Bulls   97.0  NaN NaN  \n",
       "2  Golden State Warriors  111.0  NaN NaN  \n",
       "3         Boston Celtics  112.0  NaN NaN  \n",
       "4          Brooklyn Nets  100.0  NaN NaN  "
      ]
     },
     "execution_count": 3,
     "metadata": {},
     "output_type": "execute_result"
    }
   ],
   "source": [
    "data.head()"
   ]
  },
  {
   "cell_type": "code",
   "execution_count": 4,
   "metadata": {
    "collapsed": true
   },
   "outputs": [],
   "source": [
    "# get home and visiting team\n",
    "# compare which team won\n",
    "# return win or loss for each row\n",
    "home_team = data[4].values\n",
    "away_team = data[6].values"
   ]
  },
  {
   "cell_type": "code",
   "execution_count": 5,
   "metadata": {
    "collapsed": false
   },
   "outputs": [],
   "source": [
    "data['home_team_won'] = [home > away for home, away in zip(home_team, away_team)]"
   ]
  },
  {
   "cell_type": "code",
   "execution_count": 6,
   "metadata": {
    "collapsed": true
   },
   "outputs": [],
   "source": [
    "data['away_team_won'] = [home < away for home, away in zip(home_team, away_team)]"
   ]
  },
  {
   "cell_type": "code",
   "execution_count": 7,
   "metadata": {
    "collapsed": false
   },
   "outputs": [
    {
     "data": {
      "text/html": [
       "<div>\n",
       "<table border=\"1\" class=\"dataframe\">\n",
       "  <thead>\n",
       "    <tr style=\"text-align: right;\">\n",
       "      <th></th>\n",
       "      <th>0</th>\n",
       "      <th>1</th>\n",
       "      <th>2</th>\n",
       "      <th>3</th>\n",
       "      <th>4</th>\n",
       "      <th>5</th>\n",
       "      <th>6</th>\n",
       "      <th>7</th>\n",
       "      <th>8</th>\n",
       "      <th>home_team_won</th>\n",
       "      <th>away_team_won</th>\n",
       "    </tr>\n",
       "  </thead>\n",
       "  <tbody>\n",
       "    <tr>\n",
       "      <th>0</th>\n",
       "      <td>Tue Oct 27 2015</td>\n",
       "      <td>8:00 pm</td>\n",
       "      <td>Box Score</td>\n",
       "      <td>Detroit Pistons</td>\n",
       "      <td>106.0</td>\n",
       "      <td>Atlanta Hawks</td>\n",
       "      <td>94.0</td>\n",
       "      <td>NaN</td>\n",
       "      <td>NaN</td>\n",
       "      <td>True</td>\n",
       "      <td>False</td>\n",
       "    </tr>\n",
       "    <tr>\n",
       "      <th>1</th>\n",
       "      <td>Tue Oct 27 2015</td>\n",
       "      <td>8:00 pm</td>\n",
       "      <td>Box Score</td>\n",
       "      <td>Cleveland Cavaliers</td>\n",
       "      <td>95.0</td>\n",
       "      <td>Chicago Bulls</td>\n",
       "      <td>97.0</td>\n",
       "      <td>NaN</td>\n",
       "      <td>NaN</td>\n",
       "      <td>False</td>\n",
       "      <td>True</td>\n",
       "    </tr>\n",
       "    <tr>\n",
       "      <th>2</th>\n",
       "      <td>Tue Oct 27 2015</td>\n",
       "      <td>10:30 pm</td>\n",
       "      <td>Box Score</td>\n",
       "      <td>New Orleans Pelicans</td>\n",
       "      <td>95.0</td>\n",
       "      <td>Golden State Warriors</td>\n",
       "      <td>111.0</td>\n",
       "      <td>NaN</td>\n",
       "      <td>NaN</td>\n",
       "      <td>False</td>\n",
       "      <td>True</td>\n",
       "    </tr>\n",
       "    <tr>\n",
       "      <th>3</th>\n",
       "      <td>Wed Oct 28 2015</td>\n",
       "      <td>7:30 pm</td>\n",
       "      <td>Box Score</td>\n",
       "      <td>Philadelphia 76ers</td>\n",
       "      <td>95.0</td>\n",
       "      <td>Boston Celtics</td>\n",
       "      <td>112.0</td>\n",
       "      <td>NaN</td>\n",
       "      <td>NaN</td>\n",
       "      <td>False</td>\n",
       "      <td>True</td>\n",
       "    </tr>\n",
       "    <tr>\n",
       "      <th>4</th>\n",
       "      <td>Wed Oct 28 2015</td>\n",
       "      <td>7:30 pm</td>\n",
       "      <td>Box Score</td>\n",
       "      <td>Chicago Bulls</td>\n",
       "      <td>115.0</td>\n",
       "      <td>Brooklyn Nets</td>\n",
       "      <td>100.0</td>\n",
       "      <td>NaN</td>\n",
       "      <td>NaN</td>\n",
       "      <td>True</td>\n",
       "      <td>False</td>\n",
       "    </tr>\n",
       "  </tbody>\n",
       "</table>\n",
       "</div>"
      ],
      "text/plain": [
       "                 0         1          2                     3      4  \\\n",
       "0  Tue Oct 27 2015   8:00 pm  Box Score       Detroit Pistons  106.0   \n",
       "1  Tue Oct 27 2015   8:00 pm  Box Score   Cleveland Cavaliers   95.0   \n",
       "2  Tue Oct 27 2015  10:30 pm  Box Score  New Orleans Pelicans   95.0   \n",
       "3  Wed Oct 28 2015   7:30 pm  Box Score    Philadelphia 76ers   95.0   \n",
       "4  Wed Oct 28 2015   7:30 pm  Box Score         Chicago Bulls  115.0   \n",
       "\n",
       "                       5      6    7   8 home_team_won away_team_won  \n",
       "0          Atlanta Hawks   94.0  NaN NaN          True         False  \n",
       "1          Chicago Bulls   97.0  NaN NaN         False          True  \n",
       "2  Golden State Warriors  111.0  NaN NaN         False          True  \n",
       "3         Boston Celtics  112.0  NaN NaN         False          True  \n",
       "4          Brooklyn Nets  100.0  NaN NaN          True         False  "
      ]
     },
     "execution_count": 7,
     "metadata": {},
     "output_type": "execute_result"
    }
   ],
   "source": [
    "data.head()"
   ]
  },
  {
   "cell_type": "code",
   "execution_count": 8,
   "metadata": {
    "collapsed": false
   },
   "outputs": [],
   "source": [
    "home_team = data.set_index(data[3])[['home_team_won', 0]]\n",
    "home_team.columns = ['RESULT', 'DATE']"
   ]
  },
  {
   "cell_type": "code",
   "execution_count": 9,
   "metadata": {
    "collapsed": true
   },
   "outputs": [],
   "source": [
    "away_team = data.set_index(data[5])[['away_team_won', 0]]\n",
    "away_team.columns = ['RESULT', 'DATE']"
   ]
  },
  {
   "cell_type": "code",
   "execution_count": 12,
   "metadata": {
    "collapsed": false
   },
   "outputs": [],
   "source": [
    "df = pd.concat([away_team, home_team])"
   ]
  },
  {
   "cell_type": "code",
   "execution_count": 13,
   "metadata": {
    "collapsed": false
   },
   "outputs": [],
   "source": [
    "del df.index.name"
   ]
  },
  {
   "cell_type": "code",
   "execution_count": 21,
   "metadata": {
    "collapsed": false
   },
   "outputs": [],
   "source": [
    "df = df.reset_index()"
   ]
  },
  {
   "cell_type": "code",
   "execution_count": 23,
   "metadata": {
    "collapsed": false
   },
   "outputs": [],
   "source": [
    "df.columns = ['TEAM', 'RESULT', 'DATE']"
   ]
  },
  {
   "cell_type": "code",
   "execution_count": 26,
   "metadata": {
    "collapsed": false
   },
   "outputs": [],
   "source": [
    "df['DATE'] = pd.to_datetime(df.DATE)"
   ]
  },
  {
   "cell_type": "code",
   "execution_count": 29,
   "metadata": {
    "collapsed": false
   },
   "outputs": [
    {
     "data": {
      "text/html": [
       "<div>\n",
       "<table border=\"1\" class=\"dataframe\">\n",
       "  <thead>\n",
       "    <tr style=\"text-align: right;\">\n",
       "      <th></th>\n",
       "      <th>TEAM</th>\n",
       "      <th>RESULT</th>\n",
       "      <th>DATE</th>\n",
       "    </tr>\n",
       "  </thead>\n",
       "  <tbody>\n",
       "    <tr>\n",
       "      <th>0</th>\n",
       "      <td>Atlanta Hawks</td>\n",
       "      <td>False</td>\n",
       "      <td>2015-10-27</td>\n",
       "    </tr>\n",
       "    <tr>\n",
       "      <th>1</th>\n",
       "      <td>Chicago Bulls</td>\n",
       "      <td>True</td>\n",
       "      <td>2015-10-27</td>\n",
       "    </tr>\n",
       "    <tr>\n",
       "      <th>2</th>\n",
       "      <td>Golden State Warriors</td>\n",
       "      <td>True</td>\n",
       "      <td>2015-10-27</td>\n",
       "    </tr>\n",
       "    <tr>\n",
       "      <th>3</th>\n",
       "      <td>Boston Celtics</td>\n",
       "      <td>True</td>\n",
       "      <td>2015-10-28</td>\n",
       "    </tr>\n",
       "    <tr>\n",
       "      <th>4</th>\n",
       "      <td>Brooklyn Nets</td>\n",
       "      <td>False</td>\n",
       "      <td>2015-10-28</td>\n",
       "    </tr>\n",
       "  </tbody>\n",
       "</table>\n",
       "</div>"
      ],
      "text/plain": [
       "                    TEAM RESULT       DATE\n",
       "0          Atlanta Hawks  False 2015-10-27\n",
       "1          Chicago Bulls   True 2015-10-27\n",
       "2  Golden State Warriors   True 2015-10-27\n",
       "3         Boston Celtics   True 2015-10-28\n",
       "4          Brooklyn Nets  False 2015-10-28"
      ]
     },
     "execution_count": 29,
     "metadata": {},
     "output_type": "execute_result"
    }
   ],
   "source": [
    "df.head()"
   ]
  },
  {
   "cell_type": "code",
   "execution_count": 30,
   "metadata": {
    "collapsed": false
   },
   "outputs": [
    {
     "data": {
      "text/html": [
       "<div>\n",
       "<table border=\"1\" class=\"dataframe\">\n",
       "  <thead>\n",
       "    <tr style=\"text-align: right;\">\n",
       "      <th></th>\n",
       "      <th>TEAM</th>\n",
       "      <th>RESULT</th>\n",
       "      <th>DATE</th>\n",
       "    </tr>\n",
       "  </thead>\n",
       "  <tbody>\n",
       "    <tr>\n",
       "      <th>2455</th>\n",
       "      <td>Indiana Pacers</td>\n",
       "      <td>False</td>\n",
       "      <td>2016-04-13</td>\n",
       "    </tr>\n",
       "    <tr>\n",
       "      <th>2456</th>\n",
       "      <td>New Orleans Pelicans</td>\n",
       "      <td>False</td>\n",
       "      <td>2016-04-13</td>\n",
       "    </tr>\n",
       "    <tr>\n",
       "      <th>2457</th>\n",
       "      <td>Los Angeles Clippers</td>\n",
       "      <td>False</td>\n",
       "      <td>2016-04-13</td>\n",
       "    </tr>\n",
       "    <tr>\n",
       "      <th>2458</th>\n",
       "      <td>Denver Nuggets</td>\n",
       "      <td>False</td>\n",
       "      <td>2016-04-13</td>\n",
       "    </tr>\n",
       "    <tr>\n",
       "      <th>2459</th>\n",
       "      <td>Atlanta Hawks</td>\n",
       "      <td>False</td>\n",
       "      <td>2016-04-13</td>\n",
       "    </tr>\n",
       "  </tbody>\n",
       "</table>\n",
       "</div>"
      ],
      "text/plain": [
       "                      TEAM RESULT       DATE\n",
       "2455        Indiana Pacers  False 2016-04-13\n",
       "2456  New Orleans Pelicans  False 2016-04-13\n",
       "2457  Los Angeles Clippers  False 2016-04-13\n",
       "2458        Denver Nuggets  False 2016-04-13\n",
       "2459         Atlanta Hawks  False 2016-04-13"
      ]
     },
     "execution_count": 30,
     "metadata": {},
     "output_type": "execute_result"
    }
   ],
   "source": [
    "df.tail()"
   ]
  },
  {
   "cell_type": "code",
   "execution_count": 33,
   "metadata": {
    "collapsed": true
   },
   "outputs": [],
   "source": [
    "import datetime"
   ]
  },
  {
   "cell_type": "code",
   "execution_count": 50,
   "metadata": {
    "collapsed": false
   },
   "outputs": [],
   "source": [
    "start = pd.datetime(2015, 10, 27)\n",
    "\n",
    "end = pd.datetime(2016, 4, 14)\n",
    "\n",
    "rng = pd.date_range(start, end, freq='W')"
   ]
  },
  {
   "cell_type": "code",
   "execution_count": 73,
   "metadata": {
    "collapsed": false
   },
   "outputs": [],
   "source": [
    "ts = df.set_index('DATE')"
   ]
  },
  {
   "cell_type": "code",
   "execution_count": 98,
   "metadata": {
    "collapsed": true
   },
   "outputs": [],
   "source": [
    "ts['RESULT'] = ts['RESULT'].apply(lambda x: int(x))"
   ]
  },
  {
   "cell_type": "code",
   "execution_count": 112,
   "metadata": {
    "collapsed": false
   },
   "outputs": [
    {
     "ename": "TypeError",
     "evalue": "cumcount() got an unexpected keyword argument 'axis'",
     "output_type": "error",
     "traceback": [
      "\u001b[0;31m---------------------------------------------------------------------------\u001b[0m",
      "\u001b[0;31mTypeError\u001b[0m                                 Traceback (most recent call last)",
      "\u001b[0;32m<ipython-input-112-82bfb6316c05>\u001b[0m in \u001b[0;36m<module>\u001b[0;34m()\u001b[0m\n\u001b[0;32m----> 1\u001b[0;31m \u001b[0mdf\u001b[0m\u001b[0;34m.\u001b[0m\u001b[0mgroupby\u001b[0m\u001b[0;34m(\u001b[0m\u001b[0;34m'TEAM'\u001b[0m\u001b[0;34m)\u001b[0m\u001b[0;34m.\u001b[0m\u001b[0mcumcount\u001b[0m\u001b[0;34m(\u001b[0m\u001b[0maxis\u001b[0m\u001b[0;34m=\u001b[0m\u001b[0;36m1\u001b[0m\u001b[0;34m)\u001b[0m\u001b[0;34m\u001b[0m\u001b[0m\n\u001b[0m",
      "\u001b[0;31mTypeError\u001b[0m: cumcount() got an unexpected keyword argument 'axis'"
     ]
    }
   ],
   "source": [
    "df.groupby('TEAM').cumcount(axis=1)"
   ]
  },
  {
   "cell_type": "code",
   "execution_count": 138,
   "metadata": {
    "collapsed": true
   },
   "outputs": [],
   "source": [
    "df['week'] = df.DATE.dt.week"
   ]
  },
  {
   "cell_type": "code",
   "execution_count": 156,
   "metadata": {
    "collapsed": false
   },
   "outputs": [
    {
     "data": {
      "text/html": [
       "<div>\n",
       "<table border=\"1\" class=\"dataframe\">\n",
       "  <thead>\n",
       "    <tr style=\"text-align: right;\">\n",
       "      <th></th>\n",
       "      <th>TEAM</th>\n",
       "      <th>RESULT</th>\n",
       "      <th>DATE</th>\n",
       "      <th>week</th>\n",
       "    </tr>\n",
       "  </thead>\n",
       "  <tbody>\n",
       "    <tr>\n",
       "      <th>0</th>\n",
       "      <td>Atlanta Hawks</td>\n",
       "      <td>False</td>\n",
       "      <td>2015-10-27</td>\n",
       "      <td>44</td>\n",
       "    </tr>\n",
       "    <tr>\n",
       "      <th>1</th>\n",
       "      <td>Chicago Bulls</td>\n",
       "      <td>True</td>\n",
       "      <td>2015-10-27</td>\n",
       "      <td>44</td>\n",
       "    </tr>\n",
       "    <tr>\n",
       "      <th>2</th>\n",
       "      <td>Golden State Warriors</td>\n",
       "      <td>True</td>\n",
       "      <td>2015-10-27</td>\n",
       "      <td>44</td>\n",
       "    </tr>\n",
       "    <tr>\n",
       "      <th>3</th>\n",
       "      <td>Boston Celtics</td>\n",
       "      <td>True</td>\n",
       "      <td>2015-10-28</td>\n",
       "      <td>44</td>\n",
       "    </tr>\n",
       "    <tr>\n",
       "      <th>4</th>\n",
       "      <td>Brooklyn Nets</td>\n",
       "      <td>False</td>\n",
       "      <td>2015-10-28</td>\n",
       "      <td>44</td>\n",
       "    </tr>\n",
       "  </tbody>\n",
       "</table>\n",
       "</div>"
      ],
      "text/plain": [
       "                    TEAM RESULT       DATE  week\n",
       "0          Atlanta Hawks  False 2015-10-27    44\n",
       "1          Chicago Bulls   True 2015-10-27    44\n",
       "2  Golden State Warriors   True 2015-10-27    44\n",
       "3         Boston Celtics   True 2015-10-28    44\n",
       "4          Brooklyn Nets  False 2015-10-28    44"
      ]
     },
     "execution_count": 156,
     "metadata": {},
     "output_type": "execute_result"
    }
   ],
   "source": [
    "df.head()"
   ]
  },
  {
   "cell_type": "code",
   "execution_count": 178,
   "metadata": {
    "collapsed": false
   },
   "outputs": [
    {
     "ename": "AttributeError",
     "evalue": "'DatetimeIndex' object has no attribute 'labels'",
     "output_type": "error",
     "traceback": [
      "\u001b[0;31m---------------------------------------------------------------------------\u001b[0m",
      "\u001b[0;31mAttributeError\u001b[0m                            Traceback (most recent call last)",
      "\u001b[0;32m<ipython-input-178-daeda4aa4ab5>\u001b[0m in \u001b[0;36m<module>\u001b[0;34m()\u001b[0m\n\u001b[0;32m----> 1\u001b[0;31m \u001b[0mdf\u001b[0m\u001b[0;34m.\u001b[0m\u001b[0mset_index\u001b[0m\u001b[0;34m(\u001b[0m\u001b[0;34m'DATE'\u001b[0m\u001b[0;34m)\u001b[0m\u001b[0;34m.\u001b[0m\u001b[0mgroupby\u001b[0m\u001b[0;34m(\u001b[0m\u001b[0;34m[\u001b[0m\u001b[0;34m'TEAM'\u001b[0m\u001b[0;34m,\u001b[0m \u001b[0;34m'week'\u001b[0m\u001b[0;34m]\u001b[0m\u001b[0;34m)\u001b[0m\u001b[0;34m.\u001b[0m\u001b[0mcumcount\u001b[0m\u001b[0;34m(\u001b[0m\u001b[0;34m)\u001b[0m\u001b[0;34m.\u001b[0m\u001b[0mT\u001b[0m\u001b[0;34m.\u001b[0m\u001b[0munstack\u001b[0m\u001b[0;34m(\u001b[0m\u001b[0;34m)\u001b[0m\u001b[0;34m\u001b[0m\u001b[0m\n\u001b[0m",
      "\u001b[0;32m/usr/local/lib/python3.5/site-packages/pandas/core/series.py\u001b[0m in \u001b[0;36munstack\u001b[0;34m(self, level, fill_value)\u001b[0m\n\u001b[1;32m   2059\u001b[0m         \"\"\"\n\u001b[1;32m   2060\u001b[0m         \u001b[0;32mfrom\u001b[0m \u001b[0mpandas\u001b[0m\u001b[0;34m.\u001b[0m\u001b[0mcore\u001b[0m\u001b[0;34m.\u001b[0m\u001b[0mreshape\u001b[0m \u001b[0;32mimport\u001b[0m \u001b[0munstack\u001b[0m\u001b[0;34m\u001b[0m\u001b[0m\n\u001b[0;32m-> 2061\u001b[0;31m         \u001b[0;32mreturn\u001b[0m \u001b[0munstack\u001b[0m\u001b[0;34m(\u001b[0m\u001b[0mself\u001b[0m\u001b[0;34m,\u001b[0m \u001b[0mlevel\u001b[0m\u001b[0;34m,\u001b[0m \u001b[0mfill_value\u001b[0m\u001b[0;34m)\u001b[0m\u001b[0;34m\u001b[0m\u001b[0m\n\u001b[0m\u001b[1;32m   2062\u001b[0m \u001b[0;34m\u001b[0m\u001b[0m\n\u001b[1;32m   2063\u001b[0m     \u001b[0;31m# ----------------------------------------------------------------------\u001b[0m\u001b[0;34m\u001b[0m\u001b[0;34m\u001b[0m\u001b[0m\n",
      "\u001b[0;32m/usr/local/lib/python3.5/site-packages/pandas/core/reshape.py\u001b[0m in \u001b[0;36munstack\u001b[0;34m(obj, level, fill_value)\u001b[0m\n\u001b[1;32m    403\u001b[0m     \u001b[0;32melse\u001b[0m\u001b[0;34m:\u001b[0m\u001b[0;34m\u001b[0m\u001b[0m\n\u001b[1;32m    404\u001b[0m         unstacker = _Unstacker(obj.values, obj.index, level=level,\n\u001b[0;32m--> 405\u001b[0;31m                                fill_value=fill_value)\n\u001b[0m\u001b[1;32m    406\u001b[0m         \u001b[0;32mreturn\u001b[0m \u001b[0munstacker\u001b[0m\u001b[0;34m.\u001b[0m\u001b[0mget_result\u001b[0m\u001b[0;34m(\u001b[0m\u001b[0;34m)\u001b[0m\u001b[0;34m\u001b[0m\u001b[0m\n\u001b[1;32m    407\u001b[0m \u001b[0;34m\u001b[0m\u001b[0m\n",
      "\u001b[0;32m/usr/local/lib/python3.5/site-packages/pandas/core/reshape.py\u001b[0m in \u001b[0;36m__init__\u001b[0;34m(self, values, index, level, value_columns, fill_value)\u001b[0m\n\u001b[1;32m     88\u001b[0m \u001b[0;34m\u001b[0m\u001b[0m\n\u001b[1;32m     89\u001b[0m         \u001b[0;31m# when index includes `nan`, need to lift levels/strides by 1\u001b[0m\u001b[0;34m\u001b[0m\u001b[0;34m\u001b[0m\u001b[0m\n\u001b[0;32m---> 90\u001b[0;31m         \u001b[0mself\u001b[0m\u001b[0;34m.\u001b[0m\u001b[0mlift\u001b[0m \u001b[0;34m=\u001b[0m \u001b[0;36m1\u001b[0m \u001b[0;32mif\u001b[0m \u001b[0;34m-\u001b[0m\u001b[0;36m1\u001b[0m \u001b[0;32min\u001b[0m \u001b[0mself\u001b[0m\u001b[0;34m.\u001b[0m\u001b[0mindex\u001b[0m\u001b[0;34m.\u001b[0m\u001b[0mlabels\u001b[0m\u001b[0;34m[\u001b[0m\u001b[0mself\u001b[0m\u001b[0;34m.\u001b[0m\u001b[0mlevel\u001b[0m\u001b[0;34m]\u001b[0m \u001b[0;32melse\u001b[0m \u001b[0;36m0\u001b[0m\u001b[0;34m\u001b[0m\u001b[0m\n\u001b[0m\u001b[1;32m     91\u001b[0m \u001b[0;34m\u001b[0m\u001b[0m\n\u001b[1;32m     92\u001b[0m         \u001b[0mself\u001b[0m\u001b[0;34m.\u001b[0m\u001b[0mnew_index_levels\u001b[0m \u001b[0;34m=\u001b[0m \u001b[0mlist\u001b[0m\u001b[0;34m(\u001b[0m\u001b[0mindex\u001b[0m\u001b[0;34m.\u001b[0m\u001b[0mlevels\u001b[0m\u001b[0;34m)\u001b[0m\u001b[0;34m\u001b[0m\u001b[0m\n",
      "\u001b[0;31mAttributeError\u001b[0m: 'DatetimeIndex' object has no attribute 'labels'"
     ]
    }
   ],
   "source": [
    "df.set_index('DATE').groupby(['TEAM', 'week']).cumcount().T.unstack()"
   ]
  },
  {
   "cell_type": "code",
   "execution_count": 91,
   "metadata": {
    "collapsed": false
   },
   "outputs": [
    {
     "data": {
      "text/html": [
       "<div>\n",
       "<table border=\"1\" class=\"dataframe\">\n",
       "  <thead>\n",
       "    <tr style=\"text-align: right;\">\n",
       "      <th>DATE</th>\n",
       "      <th>2015-10-27 00:00:00</th>\n",
       "      <th>2015-10-27 00:00:00</th>\n",
       "      <th>2015-10-27 00:00:00</th>\n",
       "      <th>2015-10-28 00:00:00</th>\n",
       "      <th>2015-10-28 00:00:00</th>\n",
       "      <th>2015-10-28 00:00:00</th>\n",
       "      <th>2015-10-28 00:00:00</th>\n",
       "      <th>2015-10-28 00:00:00</th>\n",
       "      <th>2015-10-28 00:00:00</th>\n",
       "      <th>2015-10-28 00:00:00</th>\n",
       "      <th>...</th>\n",
       "      <th>2016-04-13 00:00:00</th>\n",
       "      <th>2016-04-13 00:00:00</th>\n",
       "      <th>2016-04-13 00:00:00</th>\n",
       "      <th>2016-04-13 00:00:00</th>\n",
       "      <th>2016-04-13 00:00:00</th>\n",
       "      <th>2016-04-13 00:00:00</th>\n",
       "      <th>2016-04-13 00:00:00</th>\n",
       "      <th>2016-04-13 00:00:00</th>\n",
       "      <th>2016-04-13 00:00:00</th>\n",
       "      <th>2016-04-13 00:00:00</th>\n",
       "    </tr>\n",
       "  </thead>\n",
       "  <tbody>\n",
       "    <tr>\n",
       "      <th>TEAM</th>\n",
       "      <td>Atlanta Hawks</td>\n",
       "      <td>Chicago Bulls</td>\n",
       "      <td>Golden State Warriors</td>\n",
       "      <td>Boston Celtics</td>\n",
       "      <td>Brooklyn Nets</td>\n",
       "      <td>Detroit Pistons</td>\n",
       "      <td>Houston Rockets</td>\n",
       "      <td>Los Angeles Lakers</td>\n",
       "      <td>Memphis Grizzlies</td>\n",
       "      <td>Miami Heat</td>\n",
       "      <td>...</td>\n",
       "      <td>Detroit Pistons</td>\n",
       "      <td>San Antonio Spurs</td>\n",
       "      <td>Memphis Grizzlies</td>\n",
       "      <td>Sacramento Kings</td>\n",
       "      <td>Utah Jazz</td>\n",
       "      <td>Indiana Pacers</td>\n",
       "      <td>New Orleans Pelicans</td>\n",
       "      <td>Los Angeles Clippers</td>\n",
       "      <td>Denver Nuggets</td>\n",
       "      <td>Atlanta Hawks</td>\n",
       "    </tr>\n",
       "    <tr>\n",
       "      <th>RESULT</th>\n",
       "      <td>False</td>\n",
       "      <td>True</td>\n",
       "      <td>True</td>\n",
       "      <td>True</td>\n",
       "      <td>False</td>\n",
       "      <td>True</td>\n",
       "      <td>False</td>\n",
       "      <td>False</td>\n",
       "      <td>False</td>\n",
       "      <td>True</td>\n",
       "      <td>...</td>\n",
       "      <td>False</td>\n",
       "      <td>False</td>\n",
       "      <td>False</td>\n",
       "      <td>False</td>\n",
       "      <td>False</td>\n",
       "      <td>False</td>\n",
       "      <td>False</td>\n",
       "      <td>False</td>\n",
       "      <td>False</td>\n",
       "      <td>False</td>\n",
       "    </tr>\n",
       "  </tbody>\n",
       "</table>\n",
       "<p>2 rows × 2460 columns</p>\n",
       "</div>"
      ],
      "text/plain": [
       "DATE       2015-10-27     2015-10-27             2015-10-27      2015-10-28  \\\n",
       "TEAM    Atlanta Hawks  Chicago Bulls  Golden State Warriors  Boston Celtics   \n",
       "RESULT          False           True                   True            True   \n",
       "\n",
       "DATE       2015-10-28       2015-10-28       2015-10-28          2015-10-28  \\\n",
       "TEAM    Brooklyn Nets  Detroit Pistons  Houston Rockets  Los Angeles Lakers   \n",
       "RESULT          False             True            False               False   \n",
       "\n",
       "DATE           2015-10-28  2015-10-28      ...             2016-04-13  \\\n",
       "TEAM    Memphis Grizzlies  Miami Heat      ...        Detroit Pistons   \n",
       "RESULT              False        True      ...                  False   \n",
       "\n",
       "DATE           2016-04-13         2016-04-13        2016-04-13 2016-04-13  \\\n",
       "TEAM    San Antonio Spurs  Memphis Grizzlies  Sacramento Kings  Utah Jazz   \n",
       "RESULT              False              False             False      False   \n",
       "\n",
       "DATE        2016-04-13            2016-04-13            2016-04-13  \\\n",
       "TEAM    Indiana Pacers  New Orleans Pelicans  Los Angeles Clippers   \n",
       "RESULT           False                 False                 False   \n",
       "\n",
       "DATE        2016-04-13     2016-04-13  \n",
       "TEAM    Denver Nuggets  Atlanta Hawks  \n",
       "RESULT           False          False  \n",
       "\n",
       "[2 rows x 2460 columns]"
      ]
     },
     "execution_count": 91,
     "metadata": {},
     "output_type": "execute_result"
    }
   ],
   "source": [
    "ts.T"
   ]
  },
  {
   "cell_type": "code",
   "execution_count": null,
   "metadata": {
    "collapsed": true
   },
   "outputs": [],
   "source": []
  }
 ],
 "metadata": {
  "kernelspec": {
   "display_name": "Python 3",
   "language": "python",
   "name": "python3"
  },
  "language_info": {
   "codemirror_mode": {
    "name": "ipython",
    "version": 3
   },
   "file_extension": ".py",
   "mimetype": "text/x-python",
   "name": "python",
   "nbconvert_exporter": "python",
   "pygments_lexer": "ipython3",
   "version": "3.5.0"
  }
 },
 "nbformat": 4,
 "nbformat_minor": 0
}
