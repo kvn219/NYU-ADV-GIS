{
 "cells": [
  {
   "cell_type": "code",
   "execution_count": 8,
   "metadata": {
    "collapsed": false
   },
   "outputs": [
    {
     "data": {
      "text/plain": [
       "u'/Users/kvn219/NYU/basic_leaflet/preprocessing'"
      ]
     },
     "execution_count": 8,
     "metadata": {},
     "output_type": "execute_result"
    }
   ],
   "source": [
    "pwd"
   ]
  },
  {
   "cell_type": "code",
   "execution_count": 9,
   "metadata": {
    "collapsed": false
   },
   "outputs": [
    {
     "data": {
      "text/plain": [
       "{'init': u'epsg:4326'}"
      ]
     },
     "execution_count": 9,
     "metadata": {},
     "output_type": "execute_result"
    }
   ],
   "source": [
    "import os\n",
    "import fiona\n",
    "\n",
    "shpfile = fiona.open(\"../data/ne_10m_admin_0_map_subunits/ne_10m_admin_0_map_subunits.shp\", 'r')\n",
    "shpfile.crs"
   ]
  },
  {
   "cell_type": "code",
   "execution_count": 10,
   "metadata": {
    "collapsed": false
   },
   "outputs": [
    {
     "name": "stdout",
     "output_type": "stream",
     "text": [
      "ESRI Shapefile\n",
      "356\n"
     ]
    }
   ],
   "source": [
    "print shpfile.driver\n",
    "print len(shpfile)"
   ]
  },
  {
   "cell_type": "code",
   "execution_count": 12,
   "metadata": {
    "collapsed": false
   },
   "outputs": [
    {
     "data": {
      "text/plain": [
       "['geometry', 'type', 'id', 'properties']"
      ]
     },
     "execution_count": 12,
     "metadata": {},
     "output_type": "execute_result"
    }
   ],
   "source": [
    "record = shpfile.next()\n",
    "record.keys()"
   ]
  },
  {
   "cell_type": "code",
   "execution_count": 19,
   "metadata": {
    "collapsed": false
   },
   "outputs": [
    {
     "name": "stdout",
     "output_type": "stream",
     "text": [
      "{'type': 'Polygon', 'coordinates': [[(-61.88361568899995, 17.04901764500005), (-61.87922115799995, 17.06045156500008), (-61.88280188699994, 17.07021719000005), (-61.882435675999915, 17.07880280200004), (-61.86620032499988, 17.086859442000076), (-61.87336178299992, 17.089544989000075), (-61.894154425999915, 17.10053131700002), (-61.88312740799995, 17.11050039300011), (-61.865386522999955, 17.117824611000117), (-61.84235592399989, 17.124416408000087), (-61.850453253999916, 17.137640692000048), (-61.848784959999904, 17.14948151200008), (-61.83967037699992, 17.159857489000075), (-61.82526607999995, 17.16876862200013), (-61.79336503799993, 17.164943752000113), (-61.78066972599987, 17.14716217700004), (-61.77301998599992, 17.1265322940001), (-61.756418423999975, 17.114162502000056), (-61.755441860999895, 17.12303294500012), (-61.752756313999924, 17.128892320000148), (-61.743316209999904, 17.141506252000028), (-61.73761959499993, 17.132961330000114), (-61.72984778599994, 17.12799713700005), (-61.72008216099988, 17.12636953300003), (-61.70860755099994, 17.127834377000084), (-61.71349036399991, 17.122544664000117), (-61.71629798099988, 17.118801174000083), (-61.720529751999976, 17.116115627000113), (-61.729644334999875, 17.114162502000056), (-61.72508704299992, 17.09983958500007), (-61.714833136999914, 17.093085028000047), (-61.70164954299986, 17.093451239000046), (-61.68809973899988, 17.10053131700002), (-61.68065344999991, 17.10053131700002), (-61.67552649599989, 17.09560781500005), (-61.67210852799988, 17.0906436220001), (-61.66759192599994, 17.079413153000104), (-61.674387173999946, 17.079901434000078), (-61.68814042899987, 17.0789248720001), (-61.694935675999915, 17.079413153000104), (-61.685658331999946, 17.06826406500008), (-61.67707271999984, 17.062933661000017), (-61.67218990799998, 17.057562567000076), (-61.67442786399994, 17.045884507000068), (-61.685699022999955, 17.028550523000064), (-61.69701087099992, 17.027818101000037), (-61.70995032499994, 17.034165757000068), (-61.72622636599996, 17.038478908000087), (-61.73399817599997, 17.034857489000018), (-61.734364386999886, 17.025783596000025), (-61.729644334999875, 17.001166083000015), (-61.73713131399995, 16.989243882000068), (-61.75352942599994, 16.996812242000118), (-61.76976477799988, 17.01097239800015), (-61.776844855999855, 17.018540757000096), (-61.783599412999905, 17.016913153000075), (-61.80406653599994, 17.00731028900009), (-61.817860480999855, 17.004950262000136), (-61.838693813999924, 17.004828192000076), (-61.85171464799993, 17.007635809000107), (-61.883656378999945, 17.026271877000113), (-61.89037024599989, 17.035386460000097), (-61.88361568899995, 17.04901764500005)]]}\n",
      "\n",
      "Feature\n",
      "\n",
      "1\n",
      "\n",
      "OrderedDict([(u'scalerank', 3), (u'featurecla', u'Admin-0 map subunit'), (u'LABELRANK', 8.0), (u'SOVEREIGNT', u'Antigua and Barbuda'), (u'SOV_A3', u'ATG'), (u'ADM0_DIF', 0.0), (u'LEVEL', 3.0), (u'TYPE', u'Geo unit'), (u'ADMIN', u'Antigua and Barbuda'), (u'ADM0_A3', u'ATG'), (u'GEOU_DIF', 1.0), (u'GEOUNIT', u'Antigua'), (u'GU_A3', u'ACA'), (u'SU_DIF', 0.0), (u'SUBUNIT', u'Antigua'), (u'SU_A3', u'ACA'), (u'BRK_DIFF', 0.0), (u'NAME', u'Antigua'), (u'NAME_LONG', u'Antigua'), (u'BRK_A3', u'ACA'), (u'BRK_NAME', u'Antigua'), (u'BRK_GROUP', None), (u'ABBREV', u'Ant.'), (u'POSTAL', u'AT'), (u'FORMAL_EN', None), (u'FORMAL_FR', None), (u'NOTE_ADM0', None), (u'NOTE_BRK', None), (u'NAME_SORT', u'Antigua'), (u'NAME_ALT', None), (u'MAPCOLOR7', 2.0), (u'MAPCOLOR8', 2.0), (u'MAPCOLOR9', 5.0), (u'MAPCOLOR13', 5.0), (u'POP_EST', 84262.0), (u'GDP_MD_EST', 1630.49), (u'POP_YEAR', -99.0), (u'LASTCENSUS', -99.0), (u'GDP_YEAR', -99.0), (u'ECONOMY', u'6. Developing region'), (u'INCOME_GRP', u'3. Upper middle income'), (u'WIKIPEDIA', -99.0), (u'FIPS_10_', u'-99'), (u'ISO_A2', u'-99'), (u'ISO_A3', u'-99'), (u'ISO_N3', u'-99'), (u'UN_A3', u'-099'), (u'WB_A2', u'-99'), (u'WB_A3', u'-99'), (u'WOE_ID', -99.0), (u'WOE_ID_EH', 23424737.0), (u'WOE_NOTE', u'Eh is country of Antigua and Barbuda. Group of admin-1 minus Barbuda (2344541): 2344542, 2344543, 2344544, 2344545, 2344546, and 2344547.'), (u'ADM0_A3_IS', u'ATG'), (u'ADM0_A3_US', u'ATG'), (u'ADM0_A3_UN', -99.0), (u'ADM0_A3_WB', -99.0), (u'CONTINENT', u'North America'), (u'REGION_UN', u'Americas'), (u'SUBREGION', u'Caribbean'), (u'REGION_WB', u'Latin America & Caribbean'), (u'NAME_LEN', 7.0), (u'LONG_LEN', 7.0), (u'ABBREV_LEN', 4.0), (u'TINY', -99.0), (u'HOMEPART', -99.0)])\n",
      "\n"
     ]
    }
   ],
   "source": [
    "for i in record.keys():\n",
    "    print record[i]\n",
    "    print "
   ]
  },
  {
   "cell_type": "code",
   "execution_count": 21,
   "metadata": {
    "collapsed": false
   },
   "outputs": [
    {
     "name": "stdout",
     "output_type": "stream",
     "text": [
      "(63, 2)\n"
     ]
    },
    {
     "data": {
      "image/png": "[encoded data removed]",
      "text/plain": [
       "<matplotlib.figure.Figure at 0x1103a06d0>"
      ]
     },
     "metadata": {},
     "output_type": "display_data"
    }
   ],
   "source": [
    "%matplotlib inline \n",
    "\n",
    "import numpy as np\n",
    "from matplotlib.pyplot import plot\n",
    "\n",
    "for poly in record['geometry']['coordinates']:\n",
    "    coords = np.array(poly).squeeze()\n",
    "    print coords.shape\n",
    "    plot(coords[:,0], coords[:,1])"
   ]
  },
  {
   "cell_type": "code",
   "execution_count": null,
   "metadata": {
    "collapsed": true
   },
   "outputs": [],
   "source": []
  },
  {
   "cell_type": "code",
   "execution_count": null,
   "metadata": {
    "collapsed": false
   },
   "outputs": [],
   "source": [
    "import fiona\n",
    "import json\n",
    "\n",
    "features = []\n",
    "crs = None\n",
    "with fiona.collection(\"../data/ne_10m_admin_0_map_subunits/ne_10m_admin_0_map_subunits.shp\", \"r\") as source:\n",
    "    for feat in source:\n",
    "        feat['properties'].update() # with your attributes\n",
    "        features.append(feat)\n",
    "    crs = \" \".join(\"+%s=%s\" % (k,v) for k,v in source.crs.items())\n",
    "\n",
    "my_layer = {\n",
    "    \"type\": \"FeatureCollection\",\n",
    "    \"features\": features,\n",
    "    \"crs\": {\n",
    "        \"type\": \"link\", \n",
    "        \"properties\": {\"href\": \"my_layer.crs\", \"type\": \"proj4\"} }}\n",
    "\n",
    "with open(\"my_layer.json\", \"w\") as f:\n",
    "    f.write(json.dumps(my_layer))\n",
    "with open(\"my_layer.crs\", \"w\") as f:\n",
    "    f.write(crs)"
   ]
  },
  {
   "cell_type": "code",
   "execution_count": null,
   "metadata": {
    "collapsed": true
   },
   "outputs": [],
   "source": [
    "OsmApi?"
   ]
  },
  {
   "cell_type": "code",
   "execution_count": null,
   "metadata": {
    "collapsed": false
   },
   "outputs": [],
   "source": [
    "from imposm.parser import OSMParser\n",
    "\n",
    "# simple class that handles the parsed OSM data.\n",
    "class HighwayCounter(object):\n",
    "    highways = 0\n",
    "\n",
    "    def ways(self, ways):\n",
    "        # callback method for ways\n",
    "        for osmid, tags, refs in ways:\n",
    "            if 'highway' in tags:\n",
    "                self.highways += 1\n",
    "\n",
    "# instantiate counter and parser and start parsing\n",
    "counter = HighwayCounter()\n",
    "p = OSMParser(concurrency=4, ways_callback=counter.ways)\n",
    "p.parse('germany.osm.pbf')\n",
    "\n",
    "# done\n",
    "print(counter.highways)\n"
   ]
  },
  {
   "cell_type": "code",
   "execution_count": null,
   "metadata": {
    "collapsed": true
   },
   "outputs": [],
   "source": []
  }
 ],
 "metadata": {
  "kernelspec": {
   "display_name": "Python 2",
   "language": "python",
   "name": "python2"
  },
  "language_info": {
   "codemirror_mode": {
    "name": "ipython",
    "version": 2
   },
   "file_extension": ".py",
   "mimetype": "text/x-python",
   "name": "python",
   "nbconvert_exporter": "python",
   "pygments_lexer": "ipython2",
   "version": "2.7.10"
  }
 },
 "nbformat": 4,
 "nbformat_minor": 0
}
